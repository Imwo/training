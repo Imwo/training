{
  "nbformat": 4,
  "nbformat_minor": 0,
  "metadata": {
    "colab": {
      "name": "Списки(шпаргалка).ipynb",
      "provenance": [],
      "authorship_tag": "ABX9TyPBQoOANPZVU5VgAV7mMTne",
      "include_colab_link": true
    },
    "kernelspec": {
      "name": "python3",
      "display_name": "Python 3"
    },
    "language_info": {
      "name": "python"
    }
  },
  "cells": [
    {
      "cell_type": "markdown",
      "metadata": {
        "id": "view-in-github",
        "colab_type": "text"
      },
      "source": [
        "<a href=\"https://colab.research.google.com/github/Imwo/training/blob/main/%D0%A1%D0%BF%D0%B8%D1%81%D0%BA%D0%B8(%D1%88%D0%BF%D0%B0%D1%80%D0%B3%D0%B0%D0%BB%D0%BA%D0%B0).ipynb\" target=\"_parent\"><img src=\"https://colab.research.google.com/assets/colab-badge.svg\" alt=\"Open In Colab\"/></a>"
      ]
    },
    {
      "cell_type": "code",
      "metadata": {
        "colab": {
          "base_uri": "https://localhost:8080/"
        },
        "id": "OogYkGBVoxm_",
        "outputId": "c5300bc4-da7e-4459-ddfb-1240de70773d"
      },
      "source": [
        "my_list = list()\n",
        "my_list"
      ],
      "execution_count": null,
      "outputs": [
        {
          "output_type": "execute_result",
          "data": {
            "text/plain": [
              "[]"
            ]
          },
          "metadata": {
            "tags": []
          },
          "execution_count": 1
        }
      ]
    },
    {
      "cell_type": "code",
      "metadata": {
        "id": "YEBe1cEiB6r7"
      },
      "source": [
        "my_list_2 = []\n",
        "my_list_2"
      ],
      "execution_count": null,
      "outputs": []
    },
    {
      "cell_type": "code",
      "metadata": {
        "colab": {
          "base_uri": "https://localhost:8080/"
        },
        "id": "r7QM1-dVCGuY",
        "outputId": "6bcf39b6-17c9-401f-e60b-6335ec437b0b"
      },
      "source": [
        "numb = [1,2,3,4,5,6,7,8,9,10]\n",
        "numb"
      ],
      "execution_count": null,
      "outputs": [
        {
          "output_type": "execute_result",
          "data": {
            "text/plain": [
              "[1, 2, 3, 4, 5, 6, 7, 8, 9, 10]"
            ]
          },
          "metadata": {
            "tags": []
          },
          "execution_count": 2
        }
      ]
    },
    {
      "cell_type": "code",
      "metadata": {
        "colab": {
          "base_uri": "https://localhost:8080/"
        },
        "id": "-YrIB0irCa9u",
        "outputId": "825b5618-e9ba-4953-b027-c77f8641e62a"
      },
      "source": [
        "names =['Арина', 'Мандарина', 'плюх']\n",
        "names"
      ],
      "execution_count": null,
      "outputs": [
        {
          "output_type": "execute_result",
          "data": {
            "text/plain": [
              "['Арина', 'Мандарина', 'плюх']"
            ]
          },
          "metadata": {
            "tags": []
          },
          "execution_count": 3
        }
      ]
    },
    {
      "cell_type": "code",
      "metadata": {
        "colab": {
          "base_uri": "https://localhost:8080/",
          "height": 35
        },
        "id": "a3Ql6TQKCuy4",
        "outputId": "8b810ff1-c1ac-4644-8af4-ccd66b11eb53"
      },
      "source": [
        "animals = 'кошка, собака, попугай, медведь, сова'.split(',')\n",
        "animals [0]\n",
        "animals [-1]"
      ],
      "execution_count": null,
      "outputs": [
        {
          "output_type": "execute_result",
          "data": {
            "application/vnd.google.colaboratory.intrinsic+json": {
              "type": "string"
            },
            "text/plain": [
              "' сова'"
            ]
          },
          "metadata": {
            "tags": []
          },
          "execution_count": 1
        }
      ]
    },
    {
      "cell_type": "code",
      "metadata": {
        "colab": {
          "base_uri": "https://localhost:8080/"
        },
        "id": "-fKnG6y4g9eQ",
        "outputId": "b573913b-f53a-4abb-b14a-79972e7aa947"
      },
      "source": [
        "animals.sort()\n",
        "animals\n"
      ],
      "execution_count": null,
      "outputs": [
        {
          "output_type": "execute_result",
          "data": {
            "text/plain": [
              "[' медведь', ' попугай', ' собака', ' сова', 'кошка']"
            ]
          },
          "metadata": {
            "tags": []
          },
          "execution_count": 3
        }
      ]
    },
    {
      "cell_type": "code",
      "metadata": {
        "colab": {
          "base_uri": "https://localhost:8080/"
        },
        "id": "PyrfffuXjT6s",
        "outputId": "86d3d9a2-8f60-47ea-90e7-9bb240e0fac7"
      },
      "source": [
        "my_list = [x for x in range(1, 25)]\n",
        "my_list"
      ],
      "execution_count": null,
      "outputs": [
        {
          "output_type": "execute_result",
          "data": {
            "text/plain": [
              "[1,\n",
              " 2,\n",
              " 3,\n",
              " 4,\n",
              " 5,\n",
              " 6,\n",
              " 7,\n",
              " 8,\n",
              " 9,\n",
              " 10,\n",
              " 11,\n",
              " 12,\n",
              " 13,\n",
              " 14,\n",
              " 15,\n",
              " 16,\n",
              " 17,\n",
              " 18,\n",
              " 19,\n",
              " 20,\n",
              " 21,\n",
              " 22,\n",
              " 23,\n",
              " 24]"
            ]
          },
          "metadata": {
            "tags": []
          },
          "execution_count": 4
        }
      ]
    },
    {
      "cell_type": "code",
      "metadata": {
        "id": "ruUffzI2j7F0"
      },
      "source": [
        "my_list = [x for x in range(1, 25) if x%5 !=0]\n",
        "my_list"
      ],
      "execution_count": null,
      "outputs": []
    }
  ]
}