{
  "nbformat": 4,
  "nbformat_minor": 0,
  "metadata": {
    "colab": {
      "name": "словари(шпаргалка).ipynb",
      "provenance": [],
      "authorship_tag": "ABX9TyN2APH0dhE8xnVkuf5ODiad",
      "include_colab_link": true
    },
    "kernelspec": {
      "name": "python3",
      "display_name": "Python 3"
    },
    "language_info": {
      "name": "python"
    }
  },
  "cells": [
    {
      "cell_type": "markdown",
      "metadata": {
        "id": "view-in-github",
        "colab_type": "text"
      },
      "source": [
        "<a href=\"https://colab.research.google.com/github/Imwo/training/blob/main/%D1%81%D0%BB%D0%BE%D0%B2%D0%B0%D1%80%D0%B8(%D1%88%D0%BF%D0%B0%D1%80%D0%B3%D0%B0%D0%BB%D0%BA%D0%B0).ipynb\" target=\"_parent\"><img src=\"https://colab.research.google.com/assets/colab-badge.svg\" alt=\"Open In Colab\"/></a>"
      ]
    },
    {
      "cell_type": "code",
      "metadata": {
        "id": "sURolYJzoP2E",
        "colab": {
          "base_uri": "https://localhost:8080/",
          "height": 35
        },
        "outputId": "a21da027-48c9-445c-c5fb-e3c4f4c8a123"
      },
      "source": [
        "friend_base = {'Киану Ривз':'+903565728785', 'Джим Керри':'+79183953958395'}\n",
        "friend_base['Киану Ривз']"
      ],
      "execution_count": null,
      "outputs": [
        {
          "output_type": "execute_result",
          "data": {
            "application/vnd.google.colaboratory.intrinsic+json": {
              "type": "string"
            },
            "text/plain": [
              "'+903565728785'"
            ]
          },
          "metadata": {
            "tags": []
          },
          "execution_count": 1
        }
      ]
    },
    {
      "cell_type": "code",
      "metadata": {
        "colab": {
          "base_uri": "https://localhost:8080/"
        },
        "id": "nvaz2zFABSa7",
        "outputId": "83ea6df6-40b2-4407-f130-1b1a0d6c8656"
      },
      "source": [
        "friends = ['Киану Ривз','Джим Керри','Том Круз']\n",
        "for name in friends:\n",
        "  if name in friend_base:\n",
        "    print(friend_base[name])\n",
        "  else:\n",
        "    print ('Такого друга нет')"
      ],
      "execution_count": null,
      "outputs": [
        {
          "output_type": "stream",
          "text": [
            "+903565728785\n",
            "+79183953958395\n",
            "Такого друга нет\n"
          ],
          "name": "stdout"
        }
      ]
    },
    {
      "cell_type": "code",
      "metadata": {
        "colab": {
          "base_uri": "https://localhost:8080/"
        },
        "id": "da8KTgvyL86e",
        "outputId": "275517f1-db02-4859-e18b-de981a21d487"
      },
      "source": [
        "friend_base.setdefault('Том Круз','+7943842498273')\n",
        "friend_base"
      ],
      "execution_count": null,
      "outputs": [
        {
          "output_type": "execute_result",
          "data": {
            "text/plain": [
              "{'Джим Керри': '+79183953958395',\n",
              " 'Киану Ривз': '+903565728785',\n",
              " 'Том Круз': '+7943842498273'}"
            ]
          },
          "metadata": {
            "tags": []
          },
          "execution_count": 3
        }
      ]
    },
    {
      "cell_type": "code",
      "metadata": {
        "colab": {
          "base_uri": "https://localhost:8080/"
        },
        "id": "iAyLDI2pNTcq",
        "outputId": "79e759de-e11a-4573-fdc4-21ed1b110764"
      },
      "source": [
        "friend_base = {'Киану Ривз':'Тюмень',\n",
        "               'Том Круз':'Санкт-Петербург',\n",
        "               'Джим Керри':'Калуга',\n",
        "               'Брэд Питт':'Санкт-Петербург'}\n",
        "for friend in friend_base.keys():\n",
        "  if friend_base[friend] == 'Санкт-Петербург':\n",
        "    print(friend)\n"
      ],
      "execution_count": null,
      "outputs": [
        {
          "output_type": "stream",
          "text": [
            "Том Круз\n",
            "Брэд Питт\n"
          ],
          "name": "stdout"
        }
      ]
    },
    {
      "cell_type": "code",
      "metadata": {
        "colab": {
          "base_uri": "https://localhost:8080/"
        },
        "id": "qPJcLl-4PROI",
        "outputId": "68af8e15-d6d9-40be-b21e-4f1d512a925e"
      },
      "source": [
        "for location in friend_base.values():\n",
        "    print(location)"
      ],
      "execution_count": null,
      "outputs": [
        {
          "output_type": "stream",
          "text": [
            "Тюмень\n",
            "Санкт-Петербург\n",
            "Калуга\n",
            "Санкт-Петербург\n"
          ],
          "name": "stdout"
        }
      ]
    },
    {
      "cell_type": "code",
      "metadata": {
        "colab": {
          "base_uri": "https://localhost:8080/"
        },
        "id": "HccjeMFRQszh",
        "outputId": "7ab11d7c-85df-4bf9-9d39-6217294f063b"
      },
      "source": [
        "dict_sample = {\n",
        "  \"Company\": \"Toyota\", \n",
        "  \"model\": \"Premio\", \n",
        "  \"year\": 2012 \n",
        "} \n",
        "\n",
        "dict_sample[\"year\"] = 2014 \n",
        "\n",
        "print(dict_sample)"
      ],
      "execution_count": null,
      "outputs": [
        {
          "output_type": "stream",
          "text": [
            "{'Company': 'Toyota', 'model': 'Premio', 'year': 2014}\n"
          ],
          "name": "stdout"
        }
      ]
    },
    {
      "cell_type": "code",
      "metadata": {
        "colab": {
          "base_uri": "https://localhost:8080/"
        },
        "id": "qmlwl7FrQ5Vq",
        "outputId": "517dffb4-6dd0-46bb-9835-4b71f6031c92"
      },
      "source": [
        "dict_sample = {\n",
        "  \"Company\": \"Toyota\", \n",
        "  \"model\": \"Premio\", \n",
        "  \"year\": 2012 \n",
        "} \n",
        "dict_sample.pop(\"year\") \n",
        "print(dict_sample)"
      ],
      "execution_count": null,
      "outputs": [
        {
          "output_type": "stream",
          "text": [
            "{'Company': 'Toyota', 'model': 'Premio'}\n"
          ],
          "name": "stdout"
        }
      ]
    },
    {
      "cell_type": "code",
      "metadata": {
        "colab": {
          "base_uri": "https://localhost:8080/"
        },
        "id": "FxeBlcdPRC2Z",
        "outputId": "220d86fc-3ef7-433c-91e6-c36a40320581"
      },
      "source": [
        "dict_sample = {\n",
        "  \"Company\": \"Toyota\", \n",
        "  \"model\": \"Premio\", \n",
        "  \"year\": 2012 \n",
        "} \n",
        "dict_sample.popitem() \n",
        "print(dict_sample)"
      ],
      "execution_count": null,
      "outputs": [
        {
          "output_type": "stream",
          "text": [
            "{'Company': 'Toyota', 'model': 'Premio'}\n"
          ],
          "name": "stdout"
        }
      ]
    },
    {
      "cell_type": "code",
      "metadata": {
        "colab": {
          "base_uri": "https://localhost:8080/"
        },
        "id": "-y5RX8bZRN0E",
        "outputId": "efdf23f7-7402-4085-f71c-6c832dc8d95d"
      },
      "source": [
        "dict_sample = {\n",
        "  \"Company\": \"Toyota\", \n",
        "  \"model\": \"Premio\", \n",
        "  \"year\": 2012 \n",
        "} \n",
        "print(len(dict_sample))"
      ],
      "execution_count": null,
      "outputs": [
        {
          "output_type": "stream",
          "text": [
            "3\n"
          ],
          "name": "stdout"
        }
      ]
    },
    {
      "cell_type": "code",
      "metadata": {
        "id": "U_Viga-5RW25"
      },
      "source": [
        "dict_sample = {\n",
        "  \"Company\": \"Toyota\", \n",
        "  \"model\": \"Premio\", \n",
        "  \"year\": 2012 \n",
        "} \n",
        "\n",
        "for k, v in dict_sample.items(): \n",
        "    print(k, v)"
      ],
      "execution_count": null,
      "outputs": []
    },
    {
      "cell_type": "markdown",
      "metadata": {
        "id": "HVWn9HUORpsx"
      },
      "source": [
        "# **Метод setdefault()**\n",
        "Этот метод используется, когда нужно получить значение элемента с конкретным ключом. Если ключ не найден, он будет вставлен в словарь вместе с указанным значением.\n",
        "\n",
        "У метода следующий синтаксис:\n",
        "\n",
        "# dictionary.setdefault(keyname, value)"
      ]
    },
    {
      "cell_type": "code",
      "metadata": {
        "colab": {
          "base_uri": "https://localhost:8080/"
        },
        "id": "UzrxWuZQR2fl",
        "outputId": "b8eb6934-a219-4448-a608-51726be906e8"
      },
      "source": [
        "dict_sample = {\n",
        "  \"Company\": \"Toyota\", \n",
        "  \"model\": \"Premio\", \n",
        "  \"year\": 2012 \n",
        "} \n",
        "\n",
        "x = dict_sample.setdefault(\"color\", \"Gray\") \n",
        "print(x)"
      ],
      "execution_count": null,
      "outputs": [
        {
          "output_type": "stream",
          "text": [
            "Gray\n"
          ],
          "name": "stdout"
        }
      ]
    },
    {
      "cell_type": "code",
      "metadata": {
        "colab": {
          "base_uri": "https://localhost:8080/"
        },
        "id": "iFWkASVGSD1L",
        "outputId": "23ce7e40-2d07-45c2-be65-a24f06528cff"
      },
      "source": [
        "dict_sample = {\n",
        "  \"Company\": \"Toyota\", \n",
        "  \"model\": \"Premio\", \n",
        "  \"year\": 2012 \n",
        "} \n",
        "\n",
        "for k in dict_sample.keys(): \n",
        "    print(k)\n"
      ],
      "execution_count": null,
      "outputs": [
        {
          "output_type": "stream",
          "text": [
            "Company\n",
            "model\n",
            "year\n"
          ],
          "name": "stdout"
        }
      ]
    }
  ]
}